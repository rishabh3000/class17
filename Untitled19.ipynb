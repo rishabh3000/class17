{
 "cells": [
  {
   "cell_type": "code",
   "execution_count": 5,
   "metadata": {},
   "outputs": [
    {
     "name": "stdout",
     "output_type": "stream",
     "text": [
      "25\n",
      "45\n"
     ]
    }
   ],
   "source": [
    "lst = [1,4,9,5,6]\n",
    "print(sum(num for num in lst))\n",
    "print(sum(range(10)))"
   ]
  },
  {
   "cell_type": "code",
   "execution_count": 7,
   "metadata": {},
   "outputs": [
    {
     "name": "stdout",
     "output_type": "stream",
     "text": [
      "28\n",
      "52\n",
      "64\n"
     ]
    }
   ],
   "source": [
    "import sys\n",
    "num =2 \n",
    "list = ['abc']\n",
    "char = 'abc'\n",
    "print(sys.getsizeof(num))\n",
    "print(sys.getsizeof(char))\n",
    "print(sys.getsizeof(list))\n"
   ]
  },
  {
   "cell_type": "code",
   "execution_count": 10,
   "metadata": {},
   "outputs": [
    {
     "name": "stdout",
     "output_type": "stream",
     "text": [
      "welcome to patna\n",
      "welcome to ranchi\n",
      "welcome to varanshi\n"
     ]
    }
   ],
   "source": [
    "cities = ['patna','ranchi','varanshi']\n",
    "\n",
    "def visit(city):\n",
    "        print('welcome to '+city)\n",
    "for city in cities:\n",
    "    visit(city)"
   ]
  },
  {
   "cell_type": "code",
   "execution_count": null,
   "metadata": {},
   "outputs": [],
   "source": []
  }
 ],
 "metadata": {
  "kernelspec": {
   "display_name": "Python 3",
   "language": "python",
   "name": "python3"
  },
  "language_info": {
   "codemirror_mode": {
    "name": "ipython",
    "version": 3
   },
   "file_extension": ".py",
   "mimetype": "text/x-python",
   "name": "python",
   "nbconvert_exporter": "python",
   "pygments_lexer": "ipython3",
   "version": "3.8.3"
  }
 },
 "nbformat": 4,
 "nbformat_minor": 4
}
